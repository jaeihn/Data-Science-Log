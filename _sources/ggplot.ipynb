{
 "cells": [
  {
   "cell_type": "markdown",
   "id": "31c9566b-cc5a-4b08-b195-e43967bc8540",
   "metadata": {},
   "source": [
    "# `ggplot` visualizations"
   ]
  },
  {
   "cell_type": "markdown",
   "id": "d527a7bc-4778-47c9-95cb-6fc12a3361f9",
   "metadata": {},
   "source": [
    "### geom_point shapes "
   ]
  },
  {
   "cell_type": "markdown",
   "id": "6dba23c6-41b5-4715-ba2c-52b4485bf472",
   "metadata": {},
   "source": [
    "```r\n",
    "geom_point(shape = 0)\n",
    "```"
   ]
  },
  {
   "cell_type": "markdown",
   "id": "b3f1a72e-793d-4db9-ad02-ffb7f1346814",
   "metadata": {},
   "source": [
    "![geom_point shapes](imgs/points-symbols.png)\n"
   ]
  }
 ],
 "metadata": {
  "kernelspec": {
   "display_name": "R",
   "language": "R",
   "name": "ir"
  },
  "language_info": {
   "codemirror_mode": "r",
   "file_extension": ".r",
   "mimetype": "text/x-r-source",
   "name": "R",
   "pygments_lexer": "r",
   "version": "4.2.1"
  }
 },
 "nbformat": 4,
 "nbformat_minor": 5
}
