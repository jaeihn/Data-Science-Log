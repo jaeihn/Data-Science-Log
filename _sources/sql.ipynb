{
 "cells": [
  {
   "cell_type": "markdown",
   "id": "3855d131-2c93-4c45-a7d4-bceac1ff54a1",
   "metadata": {},
   "source": [
    "# PostgreSQL"
   ]
  },
  {
   "cell_type": "markdown",
   "id": "c84fab9f-74c6-471b-a031-2bf571d10ba7",
   "metadata": {},
   "source": [
    "### Links \n",
    "- PostgreSQL documentation - https://www.postgresql.org/docs/current/sql-altertable.html\n",
    "- 10 Command-line utilities PostgreSQL - https://www.datacamp.com/tutorial/10-command-line-utilities-postgresql\n",
    "- Adding constraints - https://www.tutorialsteacher.com/postgresql/add-constraint\n",
    "- to_char - https://www.postgresql.org/docs/current/functions-formatting.html#FUNCTIONS-FORMATTING-NUMERIC-TABLE\n",
    "- https://www.postgresql.org/docs/8.3/functions-formatting.html\n",
    "- Inserting new values - https://www.psycopg.org/docs/usage.html#passing-parameters-to-sql-queries\n",
    "- reading table in from file - https://www.postgresql.org/docs/10/app-psql.html#APP-PSQL-META-COMMANDS-COPY\n",
    "- Unique constraint - https://learnsql.com/blog/unique-constraint-in-sql/"
   ]
  },
  {
   "cell_type": "code",
   "execution_count": null,
   "id": "38eab5ef-2b56-427d-b4b1-98ca5a912966",
   "metadata": {},
   "outputs": [],
   "source": []
  }
 ],
 "metadata": {
  "kernelspec": {
   "display_name": "Python 3 (ipykernel)",
   "language": "python",
   "name": "python3"
  },
  "language_info": {
   "codemirror_mode": {
    "name": "ipython",
    "version": 3
   },
   "file_extension": ".py",
   "mimetype": "text/x-python",
   "name": "python",
   "nbconvert_exporter": "python",
   "pygments_lexer": "ipython3",
   "version": "3.10.6"
  }
 },
 "nbformat": 4,
 "nbformat_minor": 5
}
