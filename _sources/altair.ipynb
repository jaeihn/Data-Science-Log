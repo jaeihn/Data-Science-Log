{
 "cells": [
  {
   "cell_type": "markdown",
   "id": "d7f14de5-f95e-46b7-8a04-4acfea01fe39",
   "metadata": {},
   "source": [
    "# `altair` Visualizations"
   ]
  },
  {
   "cell_type": "code",
   "execution_count": null,
   "id": "ac7f9a92-b9ad-402f-b9e6-89d28bf5126c",
   "metadata": {},
   "outputs": [],
   "source": []
  }
 ],
 "metadata": {
  "kernelspec": {
   "display_name": "Python 3 (ipykernel)",
   "language": "python",
   "name": "python3"
  },
  "language_info": {
   "codemirror_mode": {
    "name": "ipython",
    "version": 3
   },
   "file_extension": ".py",
   "mimetype": "text/x-python",
   "name": "python",
   "nbconvert_exporter": "python",
   "pygments_lexer": "ipython3",
   "version": "3.10.6"
  }
 },
 "nbformat": 4,
 "nbformat_minor": 5
}
