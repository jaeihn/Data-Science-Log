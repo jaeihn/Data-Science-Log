{
 "cells": [
  {
   "cell_type": "markdown",
   "id": "ba0908b8-09c3-4451-be59-125ed1795e72",
   "metadata": {},
   "source": [
    "# `python`"
   ]
  },
  {
   "cell_type": "code",
   "execution_count": 1,
   "id": "772ad6d1-98cd-46fa-8d9b-6b19eef7a6f5",
   "metadata": {},
   "outputs": [],
   "source": [
    "import numpy as np"
   ]
  },
  {
   "cell_type": "markdown",
   "id": "ff9d756b-f3d7-406c-89d9-4d729fe0cbf0",
   "metadata": {},
   "source": [
    "### [numpy.linspace()](https://numpy.org/doc/stable/reference/generated/numpy.linspace.html)\n",
    "Return evenly spaced numbers over a specified interval.\n",
    "```python \n",
    "numpy.linspace(start, stop, num=50, endpoint=True, retstep=False, dtype=None, axis=0)\n",
    "```"
   ]
  }
 ],
 "metadata": {
  "kernelspec": {
   "display_name": "Python 3 (ipykernel)",
   "language": "python",
   "name": "python3"
  },
  "language_info": {
   "codemirror_mode": {
    "name": "ipython",
    "version": 3
   },
   "file_extension": ".py",
   "mimetype": "text/x-python",
   "name": "python",
   "nbconvert_exporter": "python",
   "pygments_lexer": "ipython3",
   "version": "3.10.6"
  }
 },
 "nbformat": 4,
 "nbformat_minor": 5
}
