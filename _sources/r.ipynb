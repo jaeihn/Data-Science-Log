{
 "cells": [
  {
   "cell_type": "markdown",
   "id": "97534980-cea8-45a3-9a25-676a25a0cc30",
   "metadata": {},
   "source": [
    "# `R`"
   ]
  },
  {
   "cell_type": "markdown",
   "id": "a52224bd-b2e3-4f5e-8e37-f60494612896",
   "metadata": {},
   "source": [
    "### Factor and releveling"
   ]
  },
  {
   "cell_type": "code",
   "execution_count": 32,
   "id": "ea796bcc-2e44-49c6-b5cd-714efa398b27",
   "metadata": {},
   "outputs": [
    {
     "data": {
      "text/html": [
       "<style>\n",
       ".list-inline {list-style: none; margin:0; padding: 0}\n",
       ".list-inline>li {display: inline-block}\n",
       ".list-inline>li:not(:last-child)::after {content: \"\\00b7\"; padding: 0 .5ex}\n",
       "</style>\n",
       "<ol class=list-inline><li>small</li><li>large</li><li>large</li><li>small</li><li>medium</li></ol>\n",
       "\n",
       "<details>\n",
       "\t<summary style=display:list-item;cursor:pointer>\n",
       "\t\t<strong>Levels</strong>:\n",
       "\t</summary>\n",
       "\t<style>\n",
       "\t.list-inline {list-style: none; margin:0; padding: 0}\n",
       "\t.list-inline>li {display: inline-block}\n",
       "\t.list-inline>li:not(:last-child)::after {content: \"\\00b7\"; padding: 0 .5ex}\n",
       "\t</style>\n",
       "\t<ol class=list-inline><li>'small'</li><li>'medium'</li><li>'large'</li></ol>\n",
       "</details>"
      ],
      "text/latex": [
       "\\begin{enumerate*}\n",
       "\\item small\n",
       "\\item large\n",
       "\\item large\n",
       "\\item small\n",
       "\\item medium\n",
       "\\end{enumerate*}\n",
       "\n",
       "\\emph{Levels}: \\begin{enumerate*}\n",
       "\\item 'small'\n",
       "\\item 'medium'\n",
       "\\item 'large'\n",
       "\\end{enumerate*}\n"
      ],
      "text/markdown": [
       "1. small\n",
       "2. large\n",
       "3. large\n",
       "4. small\n",
       "5. medium\n",
       "\n",
       "\n",
       "\n",
       "**Levels**: 1. 'small'\n",
       "2. 'medium'\n",
       "3. 'large'\n",
       "\n",
       "\n"
      ],
      "text/plain": [
       "[1] small  large  large  small  medium\n",
       "Levels: small medium large"
      ]
     },
     "metadata": {},
     "output_type": "display_data"
    }
   ],
   "source": [
    "sizes <- factor(c(\"small\", \"large\", \"large\", \"small\", \"medium\"),\n",
    "                levels = c(\"small\", \"medium\", \"large\")\n",
    "               )\n",
    "sizes"
   ]
  },
  {
   "cell_type": "code",
   "execution_count": 33,
   "id": "15a6fd46-0c11-4b20-b5c9-04d8e4c702a2",
   "metadata": {},
   "outputs": [
    {
     "data": {
      "text/html": [
       "<style>\n",
       ".list-inline {list-style: none; margin:0; padding: 0}\n",
       ".list-inline>li {display: inline-block}\n",
       ".list-inline>li:not(:last-child)::after {content: \"\\00b7\"; padding: 0 .5ex}\n",
       "</style>\n",
       "<ol class=list-inline><li>small</li><li>large</li><li>large</li><li>small</li><li>medium</li></ol>\n",
       "\n",
       "<details>\n",
       "\t<summary style=display:list-item;cursor:pointer>\n",
       "\t\t<strong>Levels</strong>:\n",
       "\t</summary>\n",
       "\t<style>\n",
       "\t.list-inline {list-style: none; margin:0; padding: 0}\n",
       "\t.list-inline>li {display: inline-block}\n",
       "\t.list-inline>li:not(:last-child)::after {content: \"\\00b7\"; padding: 0 .5ex}\n",
       "\t</style>\n",
       "\t<ol class=list-inline><li>'large'</li><li>'medium'</li><li>'small'</li></ol>\n",
       "</details>"
      ],
      "text/latex": [
       "\\begin{enumerate*}\n",
       "\\item small\n",
       "\\item large\n",
       "\\item large\n",
       "\\item small\n",
       "\\item medium\n",
       "\\end{enumerate*}\n",
       "\n",
       "\\emph{Levels}: \\begin{enumerate*}\n",
       "\\item 'large'\n",
       "\\item 'medium'\n",
       "\\item 'small'\n",
       "\\end{enumerate*}\n"
      ],
      "text/markdown": [
       "1. small\n",
       "2. large\n",
       "3. large\n",
       "4. small\n",
       "5. medium\n",
       "\n",
       "\n",
       "\n",
       "**Levels**: 1. 'large'\n",
       "2. 'medium'\n",
       "3. 'small'\n",
       "\n",
       "\n"
      ],
      "text/plain": [
       "[1] small  large  large  small  medium\n",
       "Levels: large medium small"
      ]
     },
     "metadata": {},
     "output_type": "display_data"
    }
   ],
   "source": [
    "# Releveling by flipping existing level\n",
    "sizes <- factor(sizes, levels=rev(levels(sizes)))\n",
    "sizes"
   ]
  },
  {
   "cell_type": "code",
   "execution_count": 34,
   "id": "92ed225d-7c28-4f54-a460-16d04faacf73",
   "metadata": {},
   "outputs": [
    {
     "data": {
      "text/html": [
       "<style>\n",
       ".list-inline {list-style: none; margin:0; padding: 0}\n",
       ".list-inline>li {display: inline-block}\n",
       ".list-inline>li:not(:last-child)::after {content: \"\\00b7\"; padding: 0 .5ex}\n",
       "</style>\n",
       "<ol class=list-inline><li>small</li><li>large</li><li>large</li><li>small</li><li>medium</li></ol>\n",
       "\n",
       "<details>\n",
       "\t<summary style=display:list-item;cursor:pointer>\n",
       "\t\t<strong>Levels</strong>:\n",
       "\t</summary>\n",
       "\t<style>\n",
       "\t.list-inline {list-style: none; margin:0; padding: 0}\n",
       "\t.list-inline>li {display: inline-block}\n",
       "\t.list-inline>li:not(:last-child)::after {content: \"\\00b7\"; padding: 0 .5ex}\n",
       "\t</style>\n",
       "\t<ol class=list-inline><li>'medium'</li><li>'large'</li><li>'small'</li></ol>\n",
       "</details>"
      ],
      "text/latex": [
       "\\begin{enumerate*}\n",
       "\\item small\n",
       "\\item large\n",
       "\\item large\n",
       "\\item small\n",
       "\\item medium\n",
       "\\end{enumerate*}\n",
       "\n",
       "\\emph{Levels}: \\begin{enumerate*}\n",
       "\\item 'medium'\n",
       "\\item 'large'\n",
       "\\item 'small'\n",
       "\\end{enumerate*}\n"
      ],
      "text/markdown": [
       "1. small\n",
       "2. large\n",
       "3. large\n",
       "4. small\n",
       "5. medium\n",
       "\n",
       "\n",
       "\n",
       "**Levels**: 1. 'medium'\n",
       "2. 'large'\n",
       "3. 'small'\n",
       "\n",
       "\n"
      ],
      "text/plain": [
       "[1] small  large  large  small  medium\n",
       "Levels: medium large small"
      ]
     },
     "metadata": {},
     "output_type": "display_data"
    }
   ],
   "source": [
    "# Releveling by pulling one specific level to front\n",
    "sizes <- relevel(sizes, \"medium\")\n",
    "sizes"
   ]
  },
  {
   "cell_type": "markdown",
   "id": "080b9b83-c946-4d07-8ada-8dd51067ee31",
   "metadata": {},
   "source": [
    "### Continuous uniform distribution"
   ]
  },
  {
   "cell_type": "code",
   "execution_count": 8,
   "id": "1edbc3ad-9fa8-4a47-87a7-746674e80eaf",
   "metadata": {},
   "outputs": [
    {
     "data": {
      "text/html": [
       "<style>\n",
       ".list-inline {list-style: none; margin:0; padding: 0}\n",
       ".list-inline>li {display: inline-block}\n",
       ".list-inline>li:not(:last-child)::after {content: \"\\00b7\"; padding: 0 .5ex}\n",
       "</style>\n",
       "<ol class=list-inline><li>0.073259424418211</li><li>0.184835190419108</li><li>0.151350944535807</li><li>0.448510551592335</li><li>0.21615466219373</li><li>0.36298828269355</li><li>0.818627763073891</li><li>0.903281734092161</li><li>0.321894014021382</li><li>0.432724984362721</li></ol>\n"
      ],
      "text/latex": [
       "\\begin{enumerate*}\n",
       "\\item 0.073259424418211\n",
       "\\item 0.184835190419108\n",
       "\\item 0.151350944535807\n",
       "\\item 0.448510551592335\n",
       "\\item 0.21615466219373\n",
       "\\item 0.36298828269355\n",
       "\\item 0.818627763073891\n",
       "\\item 0.903281734092161\n",
       "\\item 0.321894014021382\n",
       "\\item 0.432724984362721\n",
       "\\end{enumerate*}\n"
      ],
      "text/markdown": [
       "1. 0.073259424418211\n",
       "2. 0.184835190419108\n",
       "3. 0.151350944535807\n",
       "4. 0.448510551592335\n",
       "5. 0.21615466219373\n",
       "6. 0.36298828269355\n",
       "7. 0.818627763073891\n",
       "8. 0.903281734092161\n",
       "9. 0.321894014021382\n",
       "10. 0.432724984362721\n",
       "\n",
       "\n"
      ],
      "text/plain": [
       " [1] 0.07325942 0.18483519 0.15135094 0.44851055 0.21615466 0.36298828\n",
       " [7] 0.81862776 0.90328173 0.32189401 0.43272498"
      ]
     },
     "metadata": {},
     "output_type": "display_data"
    }
   ],
   "source": [
    "runif(10, min = 0, max = 1) "
   ]
  },
  {
   "cell_type": "markdown",
   "id": "e4a66c27-8836-4abb-864e-d6bf1e2b4e3e",
   "metadata": {},
   "source": [
    "### Quantile function\n",
    "Return value corresponding to different percentage\n",
    "```r\n",
    "quantile(x, probs = c(0, 0.25, 0.50, 0.75, 1), na.rm = FALSE)\n",
    "```"
   ]
  },
  {
   "cell_type": "code",
   "execution_count": 16,
   "id": "f80cfa5c-3eee-4ad6-9bd2-e6de859e78ce",
   "metadata": {},
   "outputs": [
    {
     "data": {
      "text/html": [
       "<style>\n",
       ".dl-inline {width: auto; margin:0; padding: 0}\n",
       ".dl-inline>dt, .dl-inline>dd {float: none; width: auto; display: inline-block}\n",
       ".dl-inline>dt::after {content: \":\\0020\"; padding-right: .5ex}\n",
       ".dl-inline>dt:not(:first-of-type) {padding-left: .5ex}\n",
       "</style><dl class=dl-inline><dt>0%</dt><dd>0.111047244397923</dd><dt>25%</dt><dd>0.420372451480944</dd><dt>50%</dt><dd>0.527116163168103</dd><dt>75%</dt><dd>0.815752487396821</dd><dt>100%</dt><dd>0.902219490148127</dd></dl>\n"
      ],
      "text/latex": [
       "\\begin{description*}\n",
       "\\item[0\\textbackslash{}\\%] 0.111047244397923\n",
       "\\item[25\\textbackslash{}\\%] 0.420372451480944\n",
       "\\item[50\\textbackslash{}\\%] 0.527116163168103\n",
       "\\item[75\\textbackslash{}\\%] 0.815752487396821\n",
       "\\item[100\\textbackslash{}\\%] 0.902219490148127\n",
       "\\end{description*}\n"
      ],
      "text/markdown": [
       "0%\n",
       ":   0.11104724439792325%\n",
       ":   0.42037245148094450%\n",
       ":   0.52711616316810375%\n",
       ":   0.815752487396821100%\n",
       ":   0.902219490148127\n",
       "\n"
      ],
      "text/plain": [
       "       0%       25%       50%       75%      100% \n",
       "0.1110472 0.4203725 0.5271162 0.8157525 0.9022195 "
      ]
     },
     "metadata": {},
     "output_type": "display_data"
    }
   ],
   "source": [
    "# default makes boxplot quantiles \n",
    "quantile(runif(10, min = 0, max = 1))"
   ]
  },
  {
   "cell_type": "code",
   "execution_count": 17,
   "id": "4622a59d-9c9f-4eba-b336-0c764c3ff26d",
   "metadata": {},
   "outputs": [
    {
     "data": {
      "text/html": [
       "<style>\n",
       ".dl-inline {width: auto; margin:0; padding: 0}\n",
       ".dl-inline>dt, .dl-inline>dd {float: none; width: auto; display: inline-block}\n",
       ".dl-inline>dt::after {content: \":\\0020\"; padding-right: .5ex}\n",
       ".dl-inline>dt:not(:first-of-type) {padding-left: .5ex}\n",
       "</style><dl class=dl-inline><dt>33%</dt><dd>0.322394545332063</dd><dt>66%</dt><dd>0.574147357130423</dd></dl>\n"
      ],
      "text/latex": [
       "\\begin{description*}\n",
       "\\item[33\\textbackslash{}\\%] 0.322394545332063\n",
       "\\item[66\\textbackslash{}\\%] 0.574147357130423\n",
       "\\end{description*}\n"
      ],
      "text/markdown": [
       "33%\n",
       ":   0.32239454533206366%\n",
       ":   0.574147357130423\n",
       "\n"
      ],
      "text/plain": [
       "      33%       66% \n",
       "0.3223945 0.5741474 "
      ]
     },
     "metadata": {},
     "output_type": "display_data"
    }
   ],
   "source": [
    "# specific quantiles\n",
    "quantile(runif(10, min = 0, max = 1),\n",
    "         probs=c(0.33, 0.66))"
   ]
  }
 ],
 "metadata": {
  "kernelspec": {
   "display_name": "R",
   "language": "R",
   "name": "ir"
  },
  "language_info": {
   "codemirror_mode": "r",
   "file_extension": ".r",
   "mimetype": "text/x-r-source",
   "name": "R",
   "pygments_lexer": "r",
   "version": "4.2.1"
  }
 },
 "nbformat": 4,
 "nbformat_minor": 5
}
